{
 "cells": [
  {
   "cell_type": "code",
   "execution_count": null,
   "metadata": {},
   "outputs": [],
   "source": [
    "%load_ext nb_black\n",
    "# Autoformat cells"
   ]
  },
  {
   "cell_type": "code",
   "execution_count": 2,
   "metadata": {},
   "outputs": [],
   "source": [
    "import pandas as pd\n",
    "from dss_toolkit.data_build.cleaning import (\n",
    "    qa_values,\n",
    "    qa_strip_whitespace,\n",
    "    replace_low_cardinality,\n",
    "    replace_iqr_outlier,\n",
    ")\n",
    "from dss_toolkit.data_analysis.eda import eda_categorical_cols, eda_numeric_cols\n",
    "from dss_toolkit.helpers.pandas import show"
   ]
  },
  {
   "cell_type": "code",
   "execution_count": 3,
   "metadata": {},
   "outputs": [],
   "source": [
    "train = pd.read_csv(\"train.csv\")\n",
    "test = pd.read_csv(\"test.csv\")"
   ]
  },
  {
   "cell_type": "code",
   "execution_count": 4,
   "metadata": {},
   "outputs": [
    {
     "data": {
      "text/html": [
       "<div>\n",
       "<style scoped>\n",
       "    .dataframe tbody tr th:only-of-type {\n",
       "        vertical-align: middle;\n",
       "    }\n",
       "\n",
       "    .dataframe tbody tr th {\n",
       "        vertical-align: top;\n",
       "    }\n",
       "\n",
       "    .dataframe thead th {\n",
       "        text-align: right;\n",
       "    }\n",
       "</style>\n",
       "<table border=\"1\" class=\"dataframe\">\n",
       "  <thead>\n",
       "    <tr style=\"text-align: right;\">\n",
       "      <th></th>\n",
       "      <th>PassengerId</th>\n",
       "      <th>Survived</th>\n",
       "      <th>Pclass</th>\n",
       "      <th>Name</th>\n",
       "      <th>Sex</th>\n",
       "      <th>Age</th>\n",
       "      <th>SibSp</th>\n",
       "      <th>Parch</th>\n",
       "      <th>Ticket</th>\n",
       "      <th>Fare</th>\n",
       "      <th>Cabin</th>\n",
       "      <th>Embarked</th>\n",
       "    </tr>\n",
       "  </thead>\n",
       "  <tbody>\n",
       "    <tr>\n",
       "      <td>0</td>\n",
       "      <td>1</td>\n",
       "      <td>0</td>\n",
       "      <td>3</td>\n",
       "      <td>Braund, Mr. Owen Harris</td>\n",
       "      <td>male</td>\n",
       "      <td>22.0</td>\n",
       "      <td>1</td>\n",
       "      <td>0</td>\n",
       "      <td>A/5 21171</td>\n",
       "      <td>7.2500</td>\n",
       "      <td>NaN</td>\n",
       "      <td>S</td>\n",
       "    </tr>\n",
       "    <tr>\n",
       "      <td>1</td>\n",
       "      <td>2</td>\n",
       "      <td>1</td>\n",
       "      <td>1</td>\n",
       "      <td>Cumings, Mrs. John Bradley (Florence Briggs Thayer)</td>\n",
       "      <td>female</td>\n",
       "      <td>38.0</td>\n",
       "      <td>1</td>\n",
       "      <td>0</td>\n",
       "      <td>PC 17599</td>\n",
       "      <td>71.2833</td>\n",
       "      <td>C85</td>\n",
       "      <td>C</td>\n",
       "    </tr>\n",
       "    <tr>\n",
       "      <td>2</td>\n",
       "      <td>3</td>\n",
       "      <td>1</td>\n",
       "      <td>3</td>\n",
       "      <td>Heikkinen, Miss. Laina</td>\n",
       "      <td>female</td>\n",
       "      <td>26.0</td>\n",
       "      <td>0</td>\n",
       "      <td>0</td>\n",
       "      <td>STON/O2. 3101282</td>\n",
       "      <td>7.9250</td>\n",
       "      <td>NaN</td>\n",
       "      <td>S</td>\n",
       "    </tr>\n",
       "    <tr>\n",
       "      <td>3</td>\n",
       "      <td>4</td>\n",
       "      <td>1</td>\n",
       "      <td>1</td>\n",
       "      <td>Futrelle, Mrs. Jacques Heath (Lily May Peel)</td>\n",
       "      <td>female</td>\n",
       "      <td>35.0</td>\n",
       "      <td>1</td>\n",
       "      <td>0</td>\n",
       "      <td>113803</td>\n",
       "      <td>53.1000</td>\n",
       "      <td>C123</td>\n",
       "      <td>S</td>\n",
       "    </tr>\n",
       "    <tr>\n",
       "      <td>4</td>\n",
       "      <td>5</td>\n",
       "      <td>0</td>\n",
       "      <td>3</td>\n",
       "      <td>Allen, Mr. William Henry</td>\n",
       "      <td>male</td>\n",
       "      <td>35.0</td>\n",
       "      <td>0</td>\n",
       "      <td>0</td>\n",
       "      <td>373450</td>\n",
       "      <td>8.0500</td>\n",
       "      <td>NaN</td>\n",
       "      <td>S</td>\n",
       "    </tr>\n",
       "  </tbody>\n",
       "</table>\n",
       "</div>"
      ],
      "text/plain": [
       "   PassengerId  Survived  Pclass  \\\n",
       "0  1            0         3        \n",
       "1  2            1         1        \n",
       "2  3            1         3        \n",
       "3  4            1         1        \n",
       "4  5            0         3        \n",
       "\n",
       "                                                  Name     Sex   Age  SibSp  \\\n",
       "0  Braund, Mr. Owen Harris                              male    22.0  1       \n",
       "1  Cumings, Mrs. John Bradley (Florence Briggs Thayer)  female  38.0  1       \n",
       "2  Heikkinen, Miss. Laina                               female  26.0  0       \n",
       "3  Futrelle, Mrs. Jacques Heath (Lily May Peel)         female  35.0  1       \n",
       "4  Allen, Mr. William Henry                             male    35.0  0       \n",
       "\n",
       "   Parch            Ticket     Fare Cabin Embarked  \n",
       "0  0      A/5 21171         7.2500   NaN   S        \n",
       "1  0      PC 17599          71.2833  C85   C        \n",
       "2  0      STON/O2. 3101282  7.9250   NaN   S        \n",
       "3  0      113803            53.1000  C123  S        \n",
       "4  0      373450            8.0500   NaN   S        "
      ]
     },
     "metadata": {},
     "output_type": "display_data"
    }
   ],
   "source": [
    "show(train.head())"
   ]
  },
  {
   "cell_type": "markdown",
   "metadata": {},
   "source": [
    "Identify variables"
   ]
  },
  {
   "cell_type": "code",
   "execution_count": 5,
   "metadata": {},
   "outputs": [],
   "source": [
    "categorical_variables = [\"Sex\", \"CabinClass\", \"Embarked\"]\n",
    "numeric_variables = [\n",
    "    \"Pclass\",\n",
    "    \"Age\",\n",
    "    \"SibSp\",\n",
    "    \"Parch\",\n",
    "    \"Fare\",\n",
    "]\n",
    "\n",
    "target_variable = \"Survived\"\n",
    "feature_variables = list(numeric_variables + categorical_variables)"
   ]
  },
  {
   "cell_type": "code",
   "execution_count": 6,
   "metadata": {},
   "outputs": [],
   "source": [
    "train[\"CabinClass\"] = train.Cabin.str[0].fillna(\"U\")  # New Feature\n",
    "test[\"CabinClass\"] = test.Cabin.str[0].fillna(\"U\")  # New Feature"
   ]
  },
  {
   "cell_type": "code",
   "execution_count": 7,
   "metadata": {},
   "outputs": [
    {
     "data": {
      "text/html": [
       "<div>\n",
       "<style scoped>\n",
       "    .dataframe tbody tr th:only-of-type {\n",
       "        vertical-align: middle;\n",
       "    }\n",
       "\n",
       "    .dataframe tbody tr th {\n",
       "        vertical-align: top;\n",
       "    }\n",
       "\n",
       "    .dataframe thead th {\n",
       "        text-align: right;\n",
       "    }\n",
       "</style>\n",
       "<table border=\"1\" class=\"dataframe\">\n",
       "  <thead>\n",
       "    <tr style=\"text-align: right;\">\n",
       "      <th></th>\n",
       "      <th>column_name</th>\n",
       "      <th>nunique</th>\n",
       "      <th>n_items</th>\n",
       "      <th>unique_vals</th>\n",
       "      <th>val_count</th>\n",
       "      <th>dtypes</th>\n",
       "    </tr>\n",
       "  </thead>\n",
       "  <tbody>\n",
       "    <tr>\n",
       "      <td>0</td>\n",
       "      <td>Sex</td>\n",
       "      <td>2</td>\n",
       "      <td>891</td>\n",
       "      <td>[male, female]</td>\n",
       "      <td>[577, 314]</td>\n",
       "      <td>object</td>\n",
       "    </tr>\n",
       "    <tr>\n",
       "      <td>1</td>\n",
       "      <td>CabinClass</td>\n",
       "      <td>9</td>\n",
       "      <td>891</td>\n",
       "      <td>[U, C, B, D, E, A, F, G, T]</td>\n",
       "      <td>[687, 59, 47, 33, 32, 15, 13, 4, 1]</td>\n",
       "      <td>object</td>\n",
       "    </tr>\n",
       "    <tr>\n",
       "      <td>2</td>\n",
       "      <td>Embarked</td>\n",
       "      <td>3</td>\n",
       "      <td>889</td>\n",
       "      <td>[S, C, Q]</td>\n",
       "      <td>[644, 168, 77]</td>\n",
       "      <td>object</td>\n",
       "    </tr>\n",
       "  </tbody>\n",
       "</table>\n",
       "</div>"
      ],
      "text/plain": [
       "  column_name  nunique  n_items                  unique_vals  \\\n",
       "0         Sex        2      891               [male, female]   \n",
       "1  CabinClass        9      891  [U, C, B, D, E, A, F, G, T]   \n",
       "2    Embarked        3      889                    [S, C, Q]   \n",
       "\n",
       "                             val_count  dtypes  \n",
       "0                           [577, 314]  object  \n",
       "1  [687, 59, 47, 33, 32, 15, 13, 4, 1]  object  \n",
       "2                       [644, 168, 77]  object  "
      ]
     },
     "metadata": {},
     "output_type": "display_data"
    },
    {
     "data": {
      "text/html": [
       "<div>\n",
       "<style scoped>\n",
       "    .dataframe tbody tr th:only-of-type {\n",
       "        vertical-align: middle;\n",
       "    }\n",
       "\n",
       "    .dataframe tbody tr th {\n",
       "        vertical-align: top;\n",
       "    }\n",
       "\n",
       "    .dataframe thead th {\n",
       "        text-align: right;\n",
       "    }\n",
       "</style>\n",
       "<table border=\"1\" class=\"dataframe\">\n",
       "  <thead>\n",
       "    <tr style=\"text-align: right;\">\n",
       "      <th></th>\n",
       "      <th>column_name</th>\n",
       "      <th>min_value</th>\n",
       "      <th>q05</th>\n",
       "      <th>q25</th>\n",
       "      <th>q50</th>\n",
       "      <th>q75</th>\n",
       "      <th>q95</th>\n",
       "      <th>max_value</th>\n",
       "      <th>mean_value</th>\n",
       "      <th>count</th>\n",
       "      <th>dtypes</th>\n",
       "    </tr>\n",
       "  </thead>\n",
       "  <tbody>\n",
       "    <tr>\n",
       "      <td>0</td>\n",
       "      <td>Pclass</td>\n",
       "      <td>1.00</td>\n",
       "      <td>1.000</td>\n",
       "      <td>2.0000</td>\n",
       "      <td>3.0000</td>\n",
       "      <td>3.0</td>\n",
       "      <td>3.00000</td>\n",
       "      <td>3.0000</td>\n",
       "      <td>2.308642</td>\n",
       "      <td>891</td>\n",
       "      <td>int64</td>\n",
       "    </tr>\n",
       "    <tr>\n",
       "      <td>1</td>\n",
       "      <td>Age</td>\n",
       "      <td>0.42</td>\n",
       "      <td>4.000</td>\n",
       "      <td>20.1250</td>\n",
       "      <td>28.0000</td>\n",
       "      <td>38.0</td>\n",
       "      <td>56.00000</td>\n",
       "      <td>80.0000</td>\n",
       "      <td>29.699118</td>\n",
       "      <td>714</td>\n",
       "      <td>float64</td>\n",
       "    </tr>\n",
       "    <tr>\n",
       "      <td>2</td>\n",
       "      <td>SibSp</td>\n",
       "      <td>0.00</td>\n",
       "      <td>0.000</td>\n",
       "      <td>0.0000</td>\n",
       "      <td>0.0000</td>\n",
       "      <td>1.0</td>\n",
       "      <td>3.00000</td>\n",
       "      <td>8.0000</td>\n",
       "      <td>0.523008</td>\n",
       "      <td>891</td>\n",
       "      <td>int64</td>\n",
       "    </tr>\n",
       "    <tr>\n",
       "      <td>3</td>\n",
       "      <td>Parch</td>\n",
       "      <td>0.00</td>\n",
       "      <td>0.000</td>\n",
       "      <td>0.0000</td>\n",
       "      <td>0.0000</td>\n",
       "      <td>0.0</td>\n",
       "      <td>2.00000</td>\n",
       "      <td>6.0000</td>\n",
       "      <td>0.381594</td>\n",
       "      <td>891</td>\n",
       "      <td>int64</td>\n",
       "    </tr>\n",
       "    <tr>\n",
       "      <td>4</td>\n",
       "      <td>Fare</td>\n",
       "      <td>0.00</td>\n",
       "      <td>7.225</td>\n",
       "      <td>7.9104</td>\n",
       "      <td>14.4542</td>\n",
       "      <td>31.0</td>\n",
       "      <td>112.07915</td>\n",
       "      <td>512.3292</td>\n",
       "      <td>32.204208</td>\n",
       "      <td>891</td>\n",
       "      <td>float64</td>\n",
       "    </tr>\n",
       "  </tbody>\n",
       "</table>\n",
       "</div>"
      ],
      "text/plain": [
       "  column_name  min_value    q05      q25      q50   q75        q95  max_value  \\\n",
       "0      Pclass       1.00  1.000   2.0000   3.0000   3.0    3.00000     3.0000   \n",
       "1         Age       0.42  4.000  20.1250  28.0000  38.0   56.00000    80.0000   \n",
       "2       SibSp       0.00  0.000   0.0000   0.0000   1.0    3.00000     8.0000   \n",
       "3       Parch       0.00  0.000   0.0000   0.0000   0.0    2.00000     6.0000   \n",
       "4        Fare       0.00  7.225   7.9104  14.4542  31.0  112.07915   512.3292   \n",
       "\n",
       "   mean_value  count   dtypes  \n",
       "0    2.308642    891    int64  \n",
       "1   29.699118    714  float64  \n",
       "2    0.523008    891    int64  \n",
       "3    0.381594    891    int64  \n",
       "4   32.204208    891  float64  "
      ]
     },
     "metadata": {},
     "output_type": "display_data"
    }
   ],
   "source": [
    "display(eda_categorical_cols(train, categorical_cols=categorical_variables))\n",
    "display(eda_numeric_cols(train, numeric_cols=numeric_variables))"
   ]
  },
  {
   "cell_type": "markdown",
   "metadata": {},
   "source": [
    "## Data Cleaning"
   ]
  },
  {
   "cell_type": "code",
   "execution_count": 8,
   "metadata": {},
   "outputs": [],
   "source": [
    "# Remove white spaces, replace empty string with nan\n",
    "\n",
    "\n",
    "def clean_dataframe(df, categorical_variables):\n",
    "    df = df.copy()\n",
    "\n",
    "    # Clean whitespace\n",
    "    for c in categorical_variables:\n",
    "        qa_strip_whitespace(df, c, replace_nan=True, inplace=True)\n",
    "        df.loc[df[c].isna(), c] = \"NA\"\n",
    "\n",
    "    replace_low_cardinality(df, \"CabinClass\", cut_off_percentile=0.9, inplace=True)\n",
    "\n",
    "    # Clean Numeric Columns\n",
    "    qa_values(\n",
    "        df,\n",
    "        \"Age\",\n",
    "        min_value=0,\n",
    "        max_value=100,\n",
    "        mode=\"replace\",\n",
    "        replacement=df.Age.quantile(0.5),\n",
    "        inplace=True,\n",
    "    )\n",
    "    qa_values(\n",
    "        df,\n",
    "        \"Fare\",\n",
    "        min_value=0,\n",
    "        mode=\"replace\",\n",
    "        replacement=df.Fare.quantile(0.5),\n",
    "        inplace=True,\n",
    "    )\n",
    "\n",
    "    replace_iqr_outlier(df, \"Fare\", inplace=True)\n",
    "    for c in numeric_variables:\n",
    "        df.loc[df[c].isna(), c] = 0\n",
    "    return df"
   ]
  },
  {
   "cell_type": "code",
   "execution_count": 9,
   "metadata": {},
   "outputs": [],
   "source": [
    "train_df = clean_dataframe(train, categorical_variables)\n",
    "test_df = clean_dataframe(test, categorical_variables)"
   ]
  },
  {
   "cell_type": "code",
   "execution_count": 10,
   "metadata": {},
   "outputs": [
    {
     "data": {
      "text/html": [
       "<div>\n",
       "<style scoped>\n",
       "    .dataframe tbody tr th:only-of-type {\n",
       "        vertical-align: middle;\n",
       "    }\n",
       "\n",
       "    .dataframe tbody tr th {\n",
       "        vertical-align: top;\n",
       "    }\n",
       "\n",
       "    .dataframe thead th {\n",
       "        text-align: right;\n",
       "    }\n",
       "</style>\n",
       "<table border=\"1\" class=\"dataframe\">\n",
       "  <thead>\n",
       "    <tr style=\"text-align: right;\">\n",
       "      <th></th>\n",
       "      <th>column_name</th>\n",
       "      <th>nunique</th>\n",
       "      <th>n_items</th>\n",
       "      <th>unique_vals</th>\n",
       "      <th>val_count</th>\n",
       "      <th>dtypes</th>\n",
       "    </tr>\n",
       "  </thead>\n",
       "  <tbody>\n",
       "    <tr>\n",
       "      <td>0</td>\n",
       "      <td>Sex</td>\n",
       "      <td>2</td>\n",
       "      <td>891</td>\n",
       "      <td>[male, female]</td>\n",
       "      <td>[577, 314]</td>\n",
       "      <td>object</td>\n",
       "    </tr>\n",
       "    <tr>\n",
       "      <td>1</td>\n",
       "      <td>CabinClass</td>\n",
       "      <td>2</td>\n",
       "      <td>891</td>\n",
       "      <td>[U, Others]</td>\n",
       "      <td>[687, 204]</td>\n",
       "      <td>object</td>\n",
       "    </tr>\n",
       "    <tr>\n",
       "      <td>2</td>\n",
       "      <td>Embarked</td>\n",
       "      <td>4</td>\n",
       "      <td>891</td>\n",
       "      <td>[S, C, Q, NA]</td>\n",
       "      <td>[644, 168, 77, 2]</td>\n",
       "      <td>object</td>\n",
       "    </tr>\n",
       "  </tbody>\n",
       "</table>\n",
       "</div>"
      ],
      "text/plain": [
       "  column_name  nunique  n_items     unique_vals          val_count  dtypes\n",
       "0         Sex        2      891  [male, female]         [577, 314]  object\n",
       "1  CabinClass        2      891     [U, Others]         [687, 204]  object\n",
       "2    Embarked        4      891   [S, C, Q, NA]  [644, 168, 77, 2]  object"
      ]
     },
     "metadata": {},
     "output_type": "display_data"
    },
    {
     "data": {
      "text/html": [
       "<div>\n",
       "<style scoped>\n",
       "    .dataframe tbody tr th:only-of-type {\n",
       "        vertical-align: middle;\n",
       "    }\n",
       "\n",
       "    .dataframe tbody tr th {\n",
       "        vertical-align: top;\n",
       "    }\n",
       "\n",
       "    .dataframe thead th {\n",
       "        text-align: right;\n",
       "    }\n",
       "</style>\n",
       "<table border=\"1\" class=\"dataframe\">\n",
       "  <thead>\n",
       "    <tr style=\"text-align: right;\">\n",
       "      <th></th>\n",
       "      <th>column_name</th>\n",
       "      <th>min_value</th>\n",
       "      <th>q05</th>\n",
       "      <th>q25</th>\n",
       "      <th>q50</th>\n",
       "      <th>q75</th>\n",
       "      <th>q95</th>\n",
       "      <th>max_value</th>\n",
       "      <th>mean_value</th>\n",
       "      <th>count</th>\n",
       "      <th>dtypes</th>\n",
       "    </tr>\n",
       "  </thead>\n",
       "  <tbody>\n",
       "    <tr>\n",
       "      <td>0</td>\n",
       "      <td>Pclass</td>\n",
       "      <td>1.0</td>\n",
       "      <td>1.000</td>\n",
       "      <td>2.0000</td>\n",
       "      <td>3.0000</td>\n",
       "      <td>3.0</td>\n",
       "      <td>3.00000</td>\n",
       "      <td>3.00000</td>\n",
       "      <td>2.308642</td>\n",
       "      <td>891</td>\n",
       "      <td>int64</td>\n",
       "    </tr>\n",
       "    <tr>\n",
       "      <td>1</td>\n",
       "      <td>Age</td>\n",
       "      <td>0.0</td>\n",
       "      <td>0.000</td>\n",
       "      <td>6.0000</td>\n",
       "      <td>24.0000</td>\n",
       "      <td>35.0</td>\n",
       "      <td>54.00000</td>\n",
       "      <td>80.00000</td>\n",
       "      <td>23.799293</td>\n",
       "      <td>891</td>\n",
       "      <td>float64</td>\n",
       "    </tr>\n",
       "    <tr>\n",
       "      <td>2</td>\n",
       "      <td>SibSp</td>\n",
       "      <td>0.0</td>\n",
       "      <td>0.000</td>\n",
       "      <td>0.0000</td>\n",
       "      <td>0.0000</td>\n",
       "      <td>1.0</td>\n",
       "      <td>3.00000</td>\n",
       "      <td>8.00000</td>\n",
       "      <td>0.523008</td>\n",
       "      <td>891</td>\n",
       "      <td>int64</td>\n",
       "    </tr>\n",
       "    <tr>\n",
       "      <td>3</td>\n",
       "      <td>Parch</td>\n",
       "      <td>0.0</td>\n",
       "      <td>0.000</td>\n",
       "      <td>0.0000</td>\n",
       "      <td>0.0000</td>\n",
       "      <td>0.0</td>\n",
       "      <td>2.00000</td>\n",
       "      <td>6.00000</td>\n",
       "      <td>0.381594</td>\n",
       "      <td>891</td>\n",
       "      <td>int64</td>\n",
       "    </tr>\n",
       "    <tr>\n",
       "      <td>4</td>\n",
       "      <td>Fare</td>\n",
       "      <td>0.0</td>\n",
       "      <td>7.225</td>\n",
       "      <td>7.9104</td>\n",
       "      <td>14.4542</td>\n",
       "      <td>31.0</td>\n",
       "      <td>112.07915</td>\n",
       "      <td>112.07915</td>\n",
       "      <td>30.093492</td>\n",
       "      <td>891</td>\n",
       "      <td>float64</td>\n",
       "    </tr>\n",
       "  </tbody>\n",
       "</table>\n",
       "</div>"
      ],
      "text/plain": [
       "  column_name  min_value    q05     q25      q50   q75        q95  max_value  \\\n",
       "0      Pclass        1.0  1.000  2.0000   3.0000   3.0    3.00000    3.00000   \n",
       "1         Age        0.0  0.000  6.0000  24.0000  35.0   54.00000   80.00000   \n",
       "2       SibSp        0.0  0.000  0.0000   0.0000   1.0    3.00000    8.00000   \n",
       "3       Parch        0.0  0.000  0.0000   0.0000   0.0    2.00000    6.00000   \n",
       "4        Fare        0.0  7.225  7.9104  14.4542  31.0  112.07915  112.07915   \n",
       "\n",
       "   mean_value  count   dtypes  \n",
       "0    2.308642    891    int64  \n",
       "1   23.799293    891  float64  \n",
       "2    0.523008    891    int64  \n",
       "3    0.381594    891    int64  \n",
       "4   30.093492    891  float64  "
      ]
     },
     "metadata": {},
     "output_type": "display_data"
    }
   ],
   "source": [
    "display(eda_categorical_cols(train_df, categorical_cols=categorical_variables))\n",
    "display(eda_numeric_cols(train_df, numeric_cols=numeric_variables))"
   ]
  },
  {
   "cell_type": "markdown",
   "metadata": {},
   "source": [
    "# Machine Learning Pipeline (Classification)\n",
    "\n",
    "The following steps assumes that the data is already cleaned:\n",
    "    - Correct data types\n",
    "    - no missing values\n",
    "    - no invalid values\n",
    "    - no outliers"
   ]
  },
  {
   "cell_type": "code",
   "execution_count": 11,
   "metadata": {},
   "outputs": [],
   "source": [
    "# Split your data\n",
    "from sklearn.model_selection import train_test_split\n",
    "\n",
    "X = train_df[feature_variables]\n",
    "y = train_df[target_variable]\n",
    "\n",
    "train_X, test_X, train_y, test_y = train_test_split(X, y, train_size=0.8, stratify=y)"
   ]
  },
  {
   "cell_type": "markdown",
   "metadata": {},
   "source": [
    "##  Use precoded preprocessing functions or develop your own\n",
    "\n",
    "For custom preprocessing function, follow the structure\n",
    "\n",
    "- Function Name: `preprocess_<name>()`\n",
    "- Parameters:\n",
    "    - `X`\n",
    "    - `Y` (can be set with default value `None`)\n",
    "    - `**kwargs` : to support any parameters used for preprocessing (eg. `n_components` for PCA)\n",
    "- Returns a tuple as `(preprocessed_X, preprocessed_y), preprocessor_data` where\"\n",
    "    - `preprocessed_X` : Preprocessed X\n",
    "    - `preprocessed_y` : Preprocessed y\n",
    "    - `preprocessor_data` : any variables used to \"fit\" the preprocessor such as scalers, PCA components etc.\n",
    "   "
   ]
  },
  {
   "cell_type": "code",
   "execution_count": 12,
   "metadata": {},
   "outputs": [],
   "source": [
    "from dss_toolkit.modeling.preprocessing import (\n",
    "    preprocess_scale_onehot,\n",
    "    preprocess_scale_onehot_drop_correlated,\n",
    ")"
   ]
  },
  {
   "cell_type": "code",
   "execution_count": 15,
   "metadata": {},
   "outputs": [
    {
     "data": {
      "text/html": [
       "<div>\n",
       "<style scoped>\n",
       "    .dataframe tbody tr th:only-of-type {\n",
       "        vertical-align: middle;\n",
       "    }\n",
       "\n",
       "    .dataframe tbody tr th {\n",
       "        vertical-align: top;\n",
       "    }\n",
       "\n",
       "    .dataframe thead th {\n",
       "        text-align: right;\n",
       "    }\n",
       "</style>\n",
       "<table border=\"1\" class=\"dataframe\">\n",
       "  <thead>\n",
       "    <tr style=\"text-align: right;\">\n",
       "      <th></th>\n",
       "      <th>Pclass</th>\n",
       "      <th>Age</th>\n",
       "      <th>SibSp</th>\n",
       "      <th>Parch</th>\n",
       "      <th>Fare</th>\n",
       "      <th>Sex_female</th>\n",
       "      <th>Sex_male</th>\n",
       "      <th>CabinClass_Others</th>\n",
       "      <th>CabinClass_U</th>\n",
       "      <th>Embarked_C</th>\n",
       "      <th>Embarked_NA</th>\n",
       "      <th>Embarked_Q</th>\n",
       "      <th>Embarked_S</th>\n",
       "    </tr>\n",
       "  </thead>\n",
       "  <tbody>\n",
       "    <tr>\n",
       "      <td>566</td>\n",
       "      <td>3.0</td>\n",
       "      <td>0.730769</td>\n",
       "      <td>0.0</td>\n",
       "      <td>0.0</td>\n",
       "      <td>0.337728</td>\n",
       "      <td>0</td>\n",
       "      <td>1</td>\n",
       "      <td>0</td>\n",
       "      <td>1</td>\n",
       "      <td>0</td>\n",
       "      <td>0</td>\n",
       "      <td>0</td>\n",
       "      <td>1</td>\n",
       "    </tr>\n",
       "    <tr>\n",
       "      <td>677</td>\n",
       "      <td>3.0</td>\n",
       "      <td>0.692308</td>\n",
       "      <td>0.0</td>\n",
       "      <td>0.0</td>\n",
       "      <td>0.420960</td>\n",
       "      <td>1</td>\n",
       "      <td>0</td>\n",
       "      <td>0</td>\n",
       "      <td>1</td>\n",
       "      <td>0</td>\n",
       "      <td>0</td>\n",
       "      <td>0</td>\n",
       "      <td>1</td>\n",
       "    </tr>\n",
       "    <tr>\n",
       "      <td>75</td>\n",
       "      <td>3.0</td>\n",
       "      <td>0.961538</td>\n",
       "      <td>0.0</td>\n",
       "      <td>0.0</td>\n",
       "      <td>0.327214</td>\n",
       "      <td>0</td>\n",
       "      <td>1</td>\n",
       "      <td>1</td>\n",
       "      <td>0</td>\n",
       "      <td>0</td>\n",
       "      <td>0</td>\n",
       "      <td>0</td>\n",
       "      <td>1</td>\n",
       "    </tr>\n",
       "    <tr>\n",
       "      <td>401</td>\n",
       "      <td>3.0</td>\n",
       "      <td>1.000000</td>\n",
       "      <td>0.0</td>\n",
       "      <td>0.0</td>\n",
       "      <td>0.344323</td>\n",
       "      <td>0</td>\n",
       "      <td>1</td>\n",
       "      <td>0</td>\n",
       "      <td>1</td>\n",
       "      <td>0</td>\n",
       "      <td>0</td>\n",
       "      <td>0</td>\n",
       "      <td>1</td>\n",
       "    </tr>\n",
       "    <tr>\n",
       "      <td>349</td>\n",
       "      <td>3.0</td>\n",
       "      <td>1.615385</td>\n",
       "      <td>0.0</td>\n",
       "      <td>0.0</td>\n",
       "      <td>0.370522</td>\n",
       "      <td>0</td>\n",
       "      <td>1</td>\n",
       "      <td>0</td>\n",
       "      <td>1</td>\n",
       "      <td>0</td>\n",
       "      <td>0</td>\n",
       "      <td>0</td>\n",
       "      <td>1</td>\n",
       "    </tr>\n",
       "  </tbody>\n",
       "</table>\n",
       "</div>"
      ],
      "text/plain": [
       "     Pclass       Age  SibSp  Parch      Fare  Sex_female  Sex_male  \\\n",
       "566     3.0  0.730769    0.0    0.0  0.337728           0         1   \n",
       "677     3.0  0.692308    0.0    0.0  0.420960           1         0   \n",
       "75      3.0  0.961538    0.0    0.0  0.327214           0         1   \n",
       "401     3.0  1.000000    0.0    0.0  0.344323           0         1   \n",
       "349     3.0  1.615385    0.0    0.0  0.370522           0         1   \n",
       "\n",
       "     CabinClass_Others  CabinClass_U  Embarked_C  Embarked_NA  Embarked_Q  \\\n",
       "566                  0             1           0            0           0   \n",
       "677                  0             1           0            0           0   \n",
       "75                   1             0           0            0           0   \n",
       "401                  0             1           0            0           0   \n",
       "349                  0             1           0            0           0   \n",
       "\n",
       "     Embarked_S  \n",
       "566           1  \n",
       "677           1  \n",
       "75            1  \n",
       "401           1  \n",
       "349           1  "
      ]
     },
     "metadata": {},
     "output_type": "display_data"
    },
    {
     "data": {
      "text/plain": [
       "566    0\n",
       "677    1\n",
       "75     0\n",
       "401    0\n",
       "349    0\n",
       "Name: Survived, dtype: int64"
      ]
     },
     "metadata": {},
     "output_type": "display_data"
    },
    {
     "data": {
      "text/plain": [
       "{'scaler': RobustScaler(with_centering=False),\n",
       " 'dummies_cols': Index(['Sex_female', 'Sex_male', 'CabinClass_Others', 'CabinClass_U',\n",
       "        'Embarked_C', 'Embarked_NA', 'Embarked_Q', 'Embarked_S'],\n",
       "       dtype='object')}"
      ]
     },
     "metadata": {},
     "output_type": "display_data"
    }
   ],
   "source": [
    "# Check output\n",
    "(preprocessed_X, preprocessed_y), preprocessor_data = preprocess_scale_onehot(\n",
    "    train_X,\n",
    "    train_y,\n",
    "    numeric_columns=numeric_variables,\n",
    "    categorical_columns=categorical_variables,\n",
    ")\n",
    "display(preprocessed_X.head())\n",
    "display(preprocessed_y.head())\n",
    "display(preprocessor_data)"
   ]
  },
  {
   "cell_type": "markdown",
   "metadata": {},
   "source": [
    "## Create Model Functions"
   ]
  },
  {
   "cell_type": "code",
   "execution_count": null,
   "metadata": {},
   "outputs": [],
   "source": [
    "from sklearn.ensemble import RandomForestClassifier\n",
    "\n",
    "# Must follow these parameter list\n",
    "def train_random_forest(train_data, train_labels, val_data, val_labels, **kwargs):\n",
    "\n",
    "    # Support for hyperparameters\n",
    "    n_estimators = kwargs.get(\"rf_n_estimators\", 100)  # default value\n",
    "    max_depth = kwargs.get(\"rf_max_depth\", None)\n",
    "\n",
    "    clf = RandomForestClassifier(n_estimators=n_estimators, max_depth=max_depth)\n",
    "    clf.fit(train_data, train_labels)\n",
    "\n",
    "    return clf\n",
    "\n",
    "\n",
    "def predict_random_forest(model, X, y=None):\n",
    "    preds = model.predict(X)\n",
    "    return preds"
   ]
  },
  {
   "cell_type": "code",
   "execution_count": null,
   "metadata": {},
   "outputs": [],
   "source": [
    "# Test your function\n",
    "model = train_random_forest(\n",
    "    preprocessed_X, preprocessed_y, val_data=None, val_labels=None, rf_max_depth=20\n",
    ")\n",
    "preds = predict_random_forest(model, preprocessed_X)\n",
    "preds[:4]"
   ]
  },
  {
   "cell_type": "code",
   "execution_count": null,
   "metadata": {},
   "outputs": [],
   "source": [
    "preprocessed_X.shape"
   ]
  },
  {
   "cell_type": "markdown",
   "metadata": {},
   "source": [
    "# Use Pipeline"
   ]
  },
  {
   "cell_type": "code",
   "execution_count": null,
   "metadata": {},
   "outputs": [],
   "source": [
    "from dss_toolkit.modeling.base import train_test_oot_pipeline"
   ]
  },
  {
   "cell_type": "code",
   "execution_count": null,
   "metadata": {},
   "outputs": [],
   "source": [
    "results, runs = train_test_oot_pipeline(\n",
    "    train_X,\n",
    "    train_y,\n",
    "    test_X,\n",
    "    test_y,\n",
    "    test_X,\n",
    "    test_y,\n",
    "    data_preprocessor_function=preprocess_scale_onehot,\n",
    "    numeric_columns=numeric_variables,\n",
    "    categorical_columns=categorical_variables,\n",
    "    train_model_function=train_random_forest,\n",
    "    predict_model_function=predict_random_forest,\n",
    "    learning=\"classification\",\n",
    ")"
   ]
  },
  {
   "cell_type": "code",
   "execution_count": null,
   "metadata": {},
   "outputs": [],
   "source": [
    "results"
   ]
  },
  {
   "cell_type": "code",
   "execution_count": null,
   "metadata": {},
   "outputs": [],
   "source": [
    "runs[\"train\"][\"model\"]"
   ]
  },
  {
   "cell_type": "code",
   "execution_count": null,
   "metadata": {},
   "outputs": [],
   "source": [
    "y_true, y_pred = runs[\"test\"][\"results\"]"
   ]
  },
  {
   "cell_type": "code",
   "execution_count": null,
   "metadata": {},
   "outputs": [],
   "source": [
    "from dss_toolkit.modeling.model_metrics import ks_stat, ks_table, ks_2samp"
   ]
  },
  {
   "cell_type": "code",
   "execution_count": null,
   "metadata": {},
   "outputs": [],
   "source": [
    "ks_2samp(y_true, y_pred, alternative=\"less\"), ks_stat(y_true, y_pred)"
   ]
  },
  {
   "cell_type": "code",
   "execution_count": null,
   "metadata": {},
   "outputs": [],
   "source": [
    "from scipy.stats import ks_2samp\n",
    "\n",
    "a = [1, 2, 3, 4, 5, 10, 11, 12, 13, 14]\n",
    "b = [3, 4, 5, 6, 7, 8, 9, 10, 11, 12]\n",
    "ks_2samp(a, b). "
   ]
  },
  {
   "cell_type": "code",
   "execution_count": null,
   "metadata": {},
   "outputs": [],
   "source": [
    "len(a), len(b)"
   ]
  },
  {
   "cell_type": "code",
   "execution_count": null,
   "metadata": {},
   "outputs": [],
   "source": [
    "y_true.shape"
   ]
  },
  {
   "cell_type": "code",
   "execution_count": null,
   "metadata": {},
   "outputs": [],
   "source": [
    "ks_table(y_true, y_pred, bins=150).difference.max()"
   ]
  },
  {
   "cell_type": "code",
   "execution_count": null,
   "metadata": {},
   "outputs": [],
   "source": [
    "ks_table(y_true, y_pred, bins=150)"
   ]
  },
  {
   "cell_type": "code",
   "execution_count": null,
   "metadata": {},
   "outputs": [],
   "source": [
    "show(runs[\"test\"][\"decile_performance\"], n_decimals=4)"
   ]
  },
  {
   "cell_type": "code",
   "execution_count": null,
   "metadata": {},
   "outputs": [],
   "source": [
    "runs[\"train\"][\"preprocessor_data\"]"
   ]
  },
  {
   "cell_type": "code",
   "execution_count": null,
   "metadata": {},
   "outputs": [],
   "source": [
    "results, runs = train_test_oot_pipeline(\n",
    "    train_X,\n",
    "    train_y,\n",
    "    test_X,\n",
    "    test_y,\n",
    "    test_X,\n",
    "    test_y,\n",
    "    data_preprocessor_function=preprocess_scale_onehot,\n",
    "    numeric_columns=numeric_variables,\n",
    "    categorical_columns=categorical_variables,\n",
    "    train_model_function=train_random_forest,\n",
    "    predict_model_function=predict_random_forest,\n",
    "    learning=\"regression\",\n",
    ")"
   ]
  },
  {
   "cell_type": "code",
   "execution_count": null,
   "metadata": {
    "scrolled": true
   },
   "outputs": [],
   "source": [
    "results"
   ]
  },
  {
   "cell_type": "markdown",
   "metadata": {},
   "source": [
    "# Use Scoring from model"
   ]
  },
  {
   "cell_type": "code",
   "execution_count": null,
   "metadata": {},
   "outputs": [],
   "source": [
    "from dss_toolkit.modeling.base import inference_pipeline"
   ]
  },
  {
   "cell_type": "code",
   "execution_count": null,
   "metadata": {},
   "outputs": [],
   "source": [
    "model = runs[\"train\"][\"model\"]\n",
    "preprocessor_data = runs[\"train\"][\"preprocessor_data\"]\n",
    "\n",
    "score_X = train_df[feature_variables]\n",
    "\n",
    "score_results = inference_pipeline(\n",
    "    X,\n",
    "    y=None,\n",
    "    model=model,\n",
    "    data_preprocessor_function=preprocess_scale_onehot,\n",
    "    numeric_columns=numeric_variables,\n",
    "    categorical_columns=categorical_variables,\n",
    "    preprocessor_data=preprocessor_data,\n",
    "    train_model_function=train_random_forest,\n",
    "    predict_model_function=predict_random_forest,\n",
    "    learning=\"classification\",\n",
    ")"
   ]
  },
  {
   "cell_type": "code",
   "execution_count": null,
   "metadata": {
    "scrolled": true
   },
   "outputs": [],
   "source": [
    "score_results"
   ]
  },
  {
   "cell_type": "code",
   "execution_count": null,
   "metadata": {},
   "outputs": [],
   "source": [
    "score_results[\"results\"]"
   ]
  },
  {
   "cell_type": "code",
   "execution_count": null,
   "metadata": {},
   "outputs": [],
   "source": []
  }
 ],
 "metadata": {
  "kernelspec": {
   "display_name": "Python 3",
   "language": "python",
   "name": "python3"
  },
  "language_info": {
   "codemirror_mode": {
    "name": "ipython",
    "version": 3
   },
   "file_extension": ".py",
   "mimetype": "text/x-python",
   "name": "python",
   "nbconvert_exporter": "python",
   "pygments_lexer": "ipython3",
   "version": "3.6.10"
  }
 },
 "nbformat": 4,
 "nbformat_minor": 4
}
